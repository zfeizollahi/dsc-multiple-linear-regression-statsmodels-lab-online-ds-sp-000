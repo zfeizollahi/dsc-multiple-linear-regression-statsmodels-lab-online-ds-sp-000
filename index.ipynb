{
 "cells": [
  {
   "cell_type": "markdown",
   "metadata": {},
   "source": [
    "# Multiple Linear Regression in Statsmodels - Lab"
   ]
  },
  {
   "cell_type": "markdown",
   "metadata": {},
   "source": [
    "## Introduction\n",
    "In this lab, you'll practice fitting a multiple linear regression model on our Boston Housing Data set!"
   ]
  },
  {
   "cell_type": "markdown",
   "metadata": {},
   "source": [
    "## Objectives\n",
    "You will be able to:\n",
    "* Run linear regression on Boston Housing dataset with all the predictors\n",
    "* Interpret the parameters of the multiple linear regression model"
   ]
  },
  {
   "cell_type": "markdown",
   "metadata": {},
   "source": [
    "## The Boston Housing Data"
   ]
  },
  {
   "cell_type": "markdown",
   "metadata": {},
   "source": [
    "We pre-processed the Boston Housing Data again. This time, however, we did things slightly different:\n",
    "- We dropped \"ZN\" and \"NOX\" completely\n",
    "- We categorized \"RAD\" in 3 bins and \"TAX\" in 4 bins\n",
    "- We used min-max-scaling on \"B\", \"CRIM\" and \"DIS\" (and logtransformed all of them first, except \"B\")\n",
    "- We used standardization on \"AGE\", \"INDUS\", \"LSTAT\" and \"PTRATIO\" (and logtransformed all of them first, except for \"AGE\") "
   ]
  },
  {
   "cell_type": "code",
   "execution_count": 1,
   "metadata": {},
   "outputs": [],
   "source": [
    "import pandas as pd\n",
    "import numpy as np\n",
    "from sklearn.datasets import load_boston\n",
    "boston = load_boston()\n",
    "\n",
    "boston_features = pd.DataFrame(boston.data, columns = boston.feature_names)\n",
    "boston_features = boston_features.drop([\"NOX\",\"ZN\"],axis=1)\n",
    "\n",
    "# first, create bins for based on the values observed. 3 values will result in 2 bins\n",
    "bins = [0,6,  24]\n",
    "bins_rad = pd.cut(boston_features['RAD'], bins)\n",
    "bins_rad = bins_rad.cat.as_unordered()\n",
    "\n",
    "# first, create bins for based on the values observed. 4 values will result in 3 bins\n",
    "bins = [0, 270, 360, 712]\n",
    "bins_tax = pd.cut(boston_features['TAX'], bins)\n",
    "bins_tax = bins_tax.cat.as_unordered()\n",
    "\n",
    "tax_dummy = pd.get_dummies(bins_tax, prefix=\"TAX\")\n",
    "rad_dummy = pd.get_dummies(bins_rad, prefix=\"RAD\")\n",
    "boston_features = boston_features.drop([\"RAD\",\"TAX\"], axis=1)\n",
    "boston_features = pd.concat([boston_features, rad_dummy, tax_dummy], axis=1)"
   ]
  },
  {
   "cell_type": "code",
   "execution_count": 2,
   "metadata": {},
   "outputs": [],
   "source": [
    "age = boston_features[\"AGE\"]\n",
    "b = boston_features[\"B\"]\n",
    "logcrim = np.log(boston_features[\"CRIM\"])\n",
    "logdis = np.log(boston_features[\"DIS\"])\n",
    "logindus = np.log(boston_features[\"INDUS\"])\n",
    "loglstat = np.log(boston_features[\"LSTAT\"])\n",
    "logptratio = np.log(boston_features[\"PTRATIO\"])\n",
    "\n",
    "# minmax scaling\n",
    "boston_features[\"B\"] = (b-min(b))/(max(b)-min(b))\n",
    "boston_features[\"CRIM\"] = (logcrim-min(logcrim))/(max(logcrim)-min(logcrim))\n",
    "boston_features[\"DIS\"] = (logdis-min(logdis))/(max(logdis)-min(logdis))\n",
    "\n",
    "#standardization\n",
    "boston_features[\"AGE\"] = (age-np.mean(age))/np.sqrt(np.var(age))\n",
    "boston_features[\"INDUS\"] = (logindus-np.mean(logindus))/np.sqrt(np.var(logindus))\n",
    "boston_features[\"LSTAT\"] = (loglstat-np.mean(loglstat))/np.sqrt(np.var(loglstat))\n",
    "boston_features[\"PTRATIO\"] = (logptratio-np.mean(logptratio))/(np.sqrt(np.var(logptratio)))"
   ]
  },
  {
   "cell_type": "code",
   "execution_count": 3,
   "metadata": {},
   "outputs": [
    {
     "data": {
      "text/html": [
       "<div>\n",
       "<style scoped>\n",
       "    .dataframe tbody tr th:only-of-type {\n",
       "        vertical-align: middle;\n",
       "    }\n",
       "\n",
       "    .dataframe tbody tr th {\n",
       "        vertical-align: top;\n",
       "    }\n",
       "\n",
       "    .dataframe thead th {\n",
       "        text-align: right;\n",
       "    }\n",
       "</style>\n",
       "<table border=\"1\" class=\"dataframe\">\n",
       "  <thead>\n",
       "    <tr style=\"text-align: right;\">\n",
       "      <th></th>\n",
       "      <th>CRIM</th>\n",
       "      <th>INDUS</th>\n",
       "      <th>CHAS</th>\n",
       "      <th>RM</th>\n",
       "      <th>AGE</th>\n",
       "      <th>DIS</th>\n",
       "      <th>PTRATIO</th>\n",
       "      <th>B</th>\n",
       "      <th>LSTAT</th>\n",
       "      <th>RAD_(0, 6]</th>\n",
       "      <th>RAD_(6, 24]</th>\n",
       "      <th>TAX_(0, 270]</th>\n",
       "      <th>TAX_(270, 360]</th>\n",
       "      <th>TAX_(360, 712]</th>\n",
       "    </tr>\n",
       "  </thead>\n",
       "  <tbody>\n",
       "    <tr>\n",
       "      <th>0</th>\n",
       "      <td>0.000000</td>\n",
       "      <td>-1.704344</td>\n",
       "      <td>0.0</td>\n",
       "      <td>6.575</td>\n",
       "      <td>-0.120013</td>\n",
       "      <td>0.542096</td>\n",
       "      <td>-1.443977</td>\n",
       "      <td>1.000000</td>\n",
       "      <td>-1.275260</td>\n",
       "      <td>1</td>\n",
       "      <td>0</td>\n",
       "      <td>0</td>\n",
       "      <td>1</td>\n",
       "      <td>0</td>\n",
       "    </tr>\n",
       "    <tr>\n",
       "      <th>1</th>\n",
       "      <td>0.153211</td>\n",
       "      <td>-0.263239</td>\n",
       "      <td>0.0</td>\n",
       "      <td>6.421</td>\n",
       "      <td>0.367166</td>\n",
       "      <td>0.623954</td>\n",
       "      <td>-0.230278</td>\n",
       "      <td>1.000000</td>\n",
       "      <td>-0.263711</td>\n",
       "      <td>1</td>\n",
       "      <td>0</td>\n",
       "      <td>1</td>\n",
       "      <td>0</td>\n",
       "      <td>0</td>\n",
       "    </tr>\n",
       "    <tr>\n",
       "      <th>2</th>\n",
       "      <td>0.153134</td>\n",
       "      <td>-0.263239</td>\n",
       "      <td>0.0</td>\n",
       "      <td>7.185</td>\n",
       "      <td>-0.265812</td>\n",
       "      <td>0.623954</td>\n",
       "      <td>-0.230278</td>\n",
       "      <td>0.989737</td>\n",
       "      <td>-1.627858</td>\n",
       "      <td>1</td>\n",
       "      <td>0</td>\n",
       "      <td>1</td>\n",
       "      <td>0</td>\n",
       "      <td>0</td>\n",
       "    </tr>\n",
       "    <tr>\n",
       "      <th>3</th>\n",
       "      <td>0.171005</td>\n",
       "      <td>-1.778965</td>\n",
       "      <td>0.0</td>\n",
       "      <td>6.998</td>\n",
       "      <td>-0.809889</td>\n",
       "      <td>0.707895</td>\n",
       "      <td>0.165279</td>\n",
       "      <td>0.994276</td>\n",
       "      <td>-2.153192</td>\n",
       "      <td>1</td>\n",
       "      <td>0</td>\n",
       "      <td>1</td>\n",
       "      <td>0</td>\n",
       "      <td>0</td>\n",
       "    </tr>\n",
       "    <tr>\n",
       "      <th>4</th>\n",
       "      <td>0.250315</td>\n",
       "      <td>-1.778965</td>\n",
       "      <td>0.0</td>\n",
       "      <td>7.147</td>\n",
       "      <td>-0.511180</td>\n",
       "      <td>0.707895</td>\n",
       "      <td>0.165279</td>\n",
       "      <td>1.000000</td>\n",
       "      <td>-1.162114</td>\n",
       "      <td>1</td>\n",
       "      <td>0</td>\n",
       "      <td>1</td>\n",
       "      <td>0</td>\n",
       "      <td>0</td>\n",
       "    </tr>\n",
       "  </tbody>\n",
       "</table>\n",
       "</div>"
      ],
      "text/plain": [
       "       CRIM     INDUS  CHAS     RM       AGE       DIS   PTRATIO         B  \\\n",
       "0  0.000000 -1.704344   0.0  6.575 -0.120013  0.542096 -1.443977  1.000000   \n",
       "1  0.153211 -0.263239   0.0  6.421  0.367166  0.623954 -0.230278  1.000000   \n",
       "2  0.153134 -0.263239   0.0  7.185 -0.265812  0.623954 -0.230278  0.989737   \n",
       "3  0.171005 -1.778965   0.0  6.998 -0.809889  0.707895  0.165279  0.994276   \n",
       "4  0.250315 -1.778965   0.0  7.147 -0.511180  0.707895  0.165279  1.000000   \n",
       "\n",
       "      LSTAT  RAD_(0, 6]  RAD_(6, 24]  TAX_(0, 270]  TAX_(270, 360]  \\\n",
       "0 -1.275260           1            0             0               1   \n",
       "1 -0.263711           1            0             1               0   \n",
       "2 -1.627858           1            0             1               0   \n",
       "3 -2.153192           1            0             1               0   \n",
       "4 -1.162114           1            0             1               0   \n",
       "\n",
       "   TAX_(360, 712]  \n",
       "0               0  \n",
       "1               0  \n",
       "2               0  \n",
       "3               0  \n",
       "4               0  "
      ]
     },
     "execution_count": 3,
     "metadata": {},
     "output_type": "execute_result"
    }
   ],
   "source": [
    "boston_features.head()"
   ]
  },
  {
   "cell_type": "markdown",
   "metadata": {},
   "source": [
    "## Run an linear model in Statsmodels"
   ]
  },
  {
   "cell_type": "code",
   "execution_count": 4,
   "metadata": {},
   "outputs": [],
   "source": [
    "import statsmodels.api as sm\n",
    "from statsmodels.formula.api import ols"
   ]
  },
  {
   "cell_type": "code",
   "execution_count": 5,
   "metadata": {},
   "outputs": [],
   "source": [
    "boston_features['MEDV'] = boston.target"
   ]
  },
  {
   "cell_type": "code",
   "execution_count": 23,
   "metadata": {},
   "outputs": [
    {
     "data": {
      "text/html": [
       "<div>\n",
       "<style scoped>\n",
       "    .dataframe tbody tr th:only-of-type {\n",
       "        vertical-align: middle;\n",
       "    }\n",
       "\n",
       "    .dataframe tbody tr th {\n",
       "        vertical-align: top;\n",
       "    }\n",
       "\n",
       "    .dataframe thead th {\n",
       "        text-align: right;\n",
       "    }\n",
       "</style>\n",
       "<table border=\"1\" class=\"dataframe\">\n",
       "  <thead>\n",
       "    <tr style=\"text-align: right;\">\n",
       "      <th></th>\n",
       "      <th>CRIM</th>\n",
       "      <th>INDUS</th>\n",
       "      <th>CHAS</th>\n",
       "      <th>RM</th>\n",
       "      <th>AGE</th>\n",
       "      <th>DIS</th>\n",
       "      <th>PTRATIO</th>\n",
       "      <th>B</th>\n",
       "      <th>LSTAT</th>\n",
       "      <th>RAD_0</th>\n",
       "      <th>RAD_1</th>\n",
       "      <th>TAX_0</th>\n",
       "      <th>TAX_1</th>\n",
       "      <th>TAX_2</th>\n",
       "      <th>MEDV</th>\n",
       "    </tr>\n",
       "  </thead>\n",
       "  <tbody>\n",
       "    <tr>\n",
       "      <th>0</th>\n",
       "      <td>0.000000</td>\n",
       "      <td>-1.704344</td>\n",
       "      <td>0.0</td>\n",
       "      <td>6.575</td>\n",
       "      <td>-0.120013</td>\n",
       "      <td>0.542096</td>\n",
       "      <td>-1.443977</td>\n",
       "      <td>1.000000</td>\n",
       "      <td>-1.275260</td>\n",
       "      <td>1</td>\n",
       "      <td>0</td>\n",
       "      <td>0</td>\n",
       "      <td>1</td>\n",
       "      <td>0</td>\n",
       "      <td>24.0</td>\n",
       "    </tr>\n",
       "    <tr>\n",
       "      <th>1</th>\n",
       "      <td>0.153211</td>\n",
       "      <td>-0.263239</td>\n",
       "      <td>0.0</td>\n",
       "      <td>6.421</td>\n",
       "      <td>0.367166</td>\n",
       "      <td>0.623954</td>\n",
       "      <td>-0.230278</td>\n",
       "      <td>1.000000</td>\n",
       "      <td>-0.263711</td>\n",
       "      <td>1</td>\n",
       "      <td>0</td>\n",
       "      <td>1</td>\n",
       "      <td>0</td>\n",
       "      <td>0</td>\n",
       "      <td>21.6</td>\n",
       "    </tr>\n",
       "    <tr>\n",
       "      <th>2</th>\n",
       "      <td>0.153134</td>\n",
       "      <td>-0.263239</td>\n",
       "      <td>0.0</td>\n",
       "      <td>7.185</td>\n",
       "      <td>-0.265812</td>\n",
       "      <td>0.623954</td>\n",
       "      <td>-0.230278</td>\n",
       "      <td>0.989737</td>\n",
       "      <td>-1.627858</td>\n",
       "      <td>1</td>\n",
       "      <td>0</td>\n",
       "      <td>1</td>\n",
       "      <td>0</td>\n",
       "      <td>0</td>\n",
       "      <td>34.7</td>\n",
       "    </tr>\n",
       "    <tr>\n",
       "      <th>3</th>\n",
       "      <td>0.171005</td>\n",
       "      <td>-1.778965</td>\n",
       "      <td>0.0</td>\n",
       "      <td>6.998</td>\n",
       "      <td>-0.809889</td>\n",
       "      <td>0.707895</td>\n",
       "      <td>0.165279</td>\n",
       "      <td>0.994276</td>\n",
       "      <td>-2.153192</td>\n",
       "      <td>1</td>\n",
       "      <td>0</td>\n",
       "      <td>1</td>\n",
       "      <td>0</td>\n",
       "      <td>0</td>\n",
       "      <td>33.4</td>\n",
       "    </tr>\n",
       "    <tr>\n",
       "      <th>4</th>\n",
       "      <td>0.250315</td>\n",
       "      <td>-1.778965</td>\n",
       "      <td>0.0</td>\n",
       "      <td>7.147</td>\n",
       "      <td>-0.511180</td>\n",
       "      <td>0.707895</td>\n",
       "      <td>0.165279</td>\n",
       "      <td>1.000000</td>\n",
       "      <td>-1.162114</td>\n",
       "      <td>1</td>\n",
       "      <td>0</td>\n",
       "      <td>1</td>\n",
       "      <td>0</td>\n",
       "      <td>0</td>\n",
       "      <td>36.2</td>\n",
       "    </tr>\n",
       "  </tbody>\n",
       "</table>\n",
       "</div>"
      ],
      "text/plain": [
       "       CRIM     INDUS  CHAS     RM       AGE       DIS   PTRATIO         B  \\\n",
       "0  0.000000 -1.704344   0.0  6.575 -0.120013  0.542096 -1.443977  1.000000   \n",
       "1  0.153211 -0.263239   0.0  6.421  0.367166  0.623954 -0.230278  1.000000   \n",
       "2  0.153134 -0.263239   0.0  7.185 -0.265812  0.623954 -0.230278  0.989737   \n",
       "3  0.171005 -1.778965   0.0  6.998 -0.809889  0.707895  0.165279  0.994276   \n",
       "4  0.250315 -1.778965   0.0  7.147 -0.511180  0.707895  0.165279  1.000000   \n",
       "\n",
       "      LSTAT  RAD_0  RAD_1  TAX_0  TAX_1  TAX_2  MEDV  \n",
       "0 -1.275260      1      0      0      1      0  24.0  \n",
       "1 -0.263711      1      0      1      0      0  21.6  \n",
       "2 -1.627858      1      0      1      0      0  34.7  \n",
       "3 -2.153192      1      0      1      0      0  33.4  \n",
       "4 -1.162114      1      0      1      0      0  36.2  "
      ]
     },
     "execution_count": 23,
     "metadata": {},
     "output_type": "execute_result"
    }
   ],
   "source": [
    "boston_features.head()"
   ]
  },
  {
   "cell_type": "code",
   "execution_count": 24,
   "metadata": {},
   "outputs": [],
   "source": [
    "outcome = 'MEDV'\n",
    "predictors = boston_features.columns\n",
    "f = '+'.join(predictors)\n",
    "formula = outcome + '~' + f\n",
    "stats_model = ols(formula=formula, data=boston_features).fit()"
   ]
  },
  {
   "cell_type": "code",
   "execution_count": 25,
   "metadata": {},
   "outputs": [
    {
     "data": {
      "text/html": [
       "<table class=\"simpletable\">\n",
       "<caption>OLS Regression Results</caption>\n",
       "<tr>\n",
       "  <th>Dep. Variable:</th>          <td>MEDV</td>       <th>  R-squared:         </th>  <td>   1.000</td> \n",
       "</tr>\n",
       "<tr>\n",
       "  <th>Model:</th>                   <td>OLS</td>       <th>  Adj. R-squared:    </th>  <td>   1.000</td> \n",
       "</tr>\n",
       "<tr>\n",
       "  <th>Method:</th>             <td>Least Squares</td>  <th>  F-statistic:       </th>  <td>1.968e+31</td>\n",
       "</tr>\n",
       "<tr>\n",
       "  <th>Date:</th>             <td>Tue, 16 Jul 2019</td> <th>  Prob (F-statistic):</th>   <td>  0.00</td>  \n",
       "</tr>\n",
       "<tr>\n",
       "  <th>Time:</th>                 <td>20:59:04</td>     <th>  Log-Likelihood:    </th>  <td>  15471.</td> \n",
       "</tr>\n",
       "<tr>\n",
       "  <th>No. Observations:</th>      <td>   506</td>      <th>  AIC:               </th> <td>-3.091e+04</td>\n",
       "</tr>\n",
       "<tr>\n",
       "  <th>Df Residuals:</th>          <td>   492</td>      <th>  BIC:               </th> <td>-3.085e+04</td>\n",
       "</tr>\n",
       "<tr>\n",
       "  <th>Df Model:</th>              <td>    13</td>      <th>                     </th>      <td> </td>    \n",
       "</tr>\n",
       "<tr>\n",
       "  <th>Covariance Type:</th>      <td>nonrobust</td>    <th>                     </th>      <td> </td>    \n",
       "</tr>\n",
       "</table>\n",
       "<table class=\"simpletable\">\n",
       "<tr>\n",
       "      <td></td>         <th>coef</th>     <th>std err</th>      <th>t</th>      <th>P>|t|</th>  <th>[0.025</th>    <th>0.975]</th>  \n",
       "</tr>\n",
       "<tr>\n",
       "  <th>Intercept</th> <td>-1.243e-14</td> <td> 5.32e-15</td> <td>   -2.339</td> <td> 0.020</td> <td>-2.29e-14</td> <td>-1.99e-15</td>\n",
       "</tr>\n",
       "<tr>\n",
       "  <th>CRIM</th>      <td> 7.105e-15</td> <td> 6.25e-15</td> <td>    1.136</td> <td> 0.256</td> <td>-5.18e-15</td> <td> 1.94e-14</td>\n",
       "</tr>\n",
       "<tr>\n",
       "  <th>INDUS</th>     <td> 8.882e-16</td> <td> 1.08e-15</td> <td>    0.826</td> <td> 0.409</td> <td>-1.23e-15</td> <td>    3e-15</td>\n",
       "</tr>\n",
       "<tr>\n",
       "  <th>CHAS</th>      <td>-3.331e-15</td> <td> 2.38e-15</td> <td>   -1.401</td> <td> 0.162</td> <td>   -8e-15</td> <td> 1.34e-15</td>\n",
       "</tr>\n",
       "<tr>\n",
       "  <th>RM</th>        <td> 4.718e-15</td> <td> 1.26e-15</td> <td>    3.759</td> <td> 0.000</td> <td> 2.25e-15</td> <td> 7.18e-15</td>\n",
       "</tr>\n",
       "<tr>\n",
       "  <th>AGE</th>       <td>-1.887e-15</td> <td> 1.04e-15</td> <td>   -1.817</td> <td> 0.070</td> <td>-3.93e-15</td> <td> 1.53e-16</td>\n",
       "</tr>\n",
       "<tr>\n",
       "  <th>DIS</th>       <td>-3.553e-15</td> <td> 5.64e-15</td> <td>   -0.629</td> <td> 0.529</td> <td>-1.46e-14</td> <td> 7.54e-15</td>\n",
       "</tr>\n",
       "<tr>\n",
       "  <th>PTRATIO</th>   <td> 8.049e-16</td> <td>  7.4e-16</td> <td>    1.088</td> <td> 0.277</td> <td>-6.48e-16</td> <td> 2.26e-15</td>\n",
       "</tr>\n",
       "<tr>\n",
       "  <th>B</th>         <td>-1.221e-15</td> <td> 2.96e-15</td> <td>   -0.413</td> <td> 0.680</td> <td>-7.03e-15</td> <td> 4.59e-15</td>\n",
       "</tr>\n",
       "<tr>\n",
       "  <th>LSTAT</th>     <td> 1.138e-15</td> <td> 1.29e-15</td> <td>    0.885</td> <td> 0.376</td> <td>-1.39e-15</td> <td> 3.66e-15</td>\n",
       "</tr>\n",
       "<tr>\n",
       "  <th>RAD_0</th>     <td>-5.995e-15</td> <td> 2.43e-15</td> <td>   -2.463</td> <td> 0.014</td> <td>-1.08e-14</td> <td>-1.21e-15</td>\n",
       "</tr>\n",
       "<tr>\n",
       "  <th>RAD_1</th>     <td>-5.773e-15</td> <td> 3.19e-15</td> <td>   -1.808</td> <td> 0.071</td> <td> -1.2e-14</td> <td> 5.01e-16</td>\n",
       "</tr>\n",
       "<tr>\n",
       "  <th>TAX_0</th>     <td>-4.385e-15</td> <td> 2.14e-15</td> <td>   -2.047</td> <td> 0.041</td> <td>-8.59e-15</td> <td>-1.77e-16</td>\n",
       "</tr>\n",
       "<tr>\n",
       "  <th>TAX_1</th>     <td>-3.664e-15</td> <td> 2.09e-15</td> <td>   -1.756</td> <td> 0.080</td> <td>-7.76e-15</td> <td> 4.35e-16</td>\n",
       "</tr>\n",
       "<tr>\n",
       "  <th>TAX_2</th>     <td>-4.885e-15</td> <td> 2.02e-15</td> <td>   -2.416</td> <td> 0.016</td> <td>-8.86e-15</td> <td>-9.13e-16</td>\n",
       "</tr>\n",
       "<tr>\n",
       "  <th>MEDV</th>      <td>    1.0000</td> <td> 1.33e-16</td> <td> 7.52e+15</td> <td> 0.000</td> <td>    1.000</td> <td>    1.000</td>\n",
       "</tr>\n",
       "</table>\n",
       "<table class=\"simpletable\">\n",
       "<tr>\n",
       "  <th>Omnibus:</th>       <td>82.703</td> <th>  Durbin-Watson:     </th> <td>   0.166</td>\n",
       "</tr>\n",
       "<tr>\n",
       "  <th>Prob(Omnibus):</th> <td> 0.000</td> <th>  Jarque-Bera (JB):  </th> <td> 140.111</td>\n",
       "</tr>\n",
       "<tr>\n",
       "  <th>Skew:</th>          <td>-0.986</td> <th>  Prob(JB):          </th> <td>3.76e-31</td>\n",
       "</tr>\n",
       "<tr>\n",
       "  <th>Kurtosis:</th>      <td> 4.660</td> <th>  Cond. No.          </th> <td>2.01e+17</td>\n",
       "</tr>\n",
       "</table><br/><br/>Warnings:<br/>[1] Standard Errors assume that the covariance matrix of the errors is correctly specified.<br/>[2] The smallest eigenvalue is 7.91e-30. This might indicate that there are<br/>strong multicollinearity problems or that the design matrix is singular."
      ],
      "text/plain": [
       "<class 'statsmodels.iolib.summary.Summary'>\n",
       "\"\"\"\n",
       "                            OLS Regression Results                            \n",
       "==============================================================================\n",
       "Dep. Variable:                   MEDV   R-squared:                       1.000\n",
       "Model:                            OLS   Adj. R-squared:                  1.000\n",
       "Method:                 Least Squares   F-statistic:                 1.968e+31\n",
       "Date:                Tue, 16 Jul 2019   Prob (F-statistic):               0.00\n",
       "Time:                        20:59:04   Log-Likelihood:                 15471.\n",
       "No. Observations:                 506   AIC:                        -3.091e+04\n",
       "Df Residuals:                     492   BIC:                        -3.085e+04\n",
       "Df Model:                          13                                         \n",
       "Covariance Type:            nonrobust                                         \n",
       "==============================================================================\n",
       "                 coef    std err          t      P>|t|      [0.025      0.975]\n",
       "------------------------------------------------------------------------------\n",
       "Intercept  -1.243e-14   5.32e-15     -2.339      0.020   -2.29e-14   -1.99e-15\n",
       "CRIM        7.105e-15   6.25e-15      1.136      0.256   -5.18e-15    1.94e-14\n",
       "INDUS       8.882e-16   1.08e-15      0.826      0.409   -1.23e-15       3e-15\n",
       "CHAS       -3.331e-15   2.38e-15     -1.401      0.162      -8e-15    1.34e-15\n",
       "RM          4.718e-15   1.26e-15      3.759      0.000    2.25e-15    7.18e-15\n",
       "AGE        -1.887e-15   1.04e-15     -1.817      0.070   -3.93e-15    1.53e-16\n",
       "DIS        -3.553e-15   5.64e-15     -0.629      0.529   -1.46e-14    7.54e-15\n",
       "PTRATIO     8.049e-16    7.4e-16      1.088      0.277   -6.48e-16    2.26e-15\n",
       "B          -1.221e-15   2.96e-15     -0.413      0.680   -7.03e-15    4.59e-15\n",
       "LSTAT       1.138e-15   1.29e-15      0.885      0.376   -1.39e-15    3.66e-15\n",
       "RAD_0      -5.995e-15   2.43e-15     -2.463      0.014   -1.08e-14   -1.21e-15\n",
       "RAD_1      -5.773e-15   3.19e-15     -1.808      0.071    -1.2e-14    5.01e-16\n",
       "TAX_0      -4.385e-15   2.14e-15     -2.047      0.041   -8.59e-15   -1.77e-16\n",
       "TAX_1      -3.664e-15   2.09e-15     -1.756      0.080   -7.76e-15    4.35e-16\n",
       "TAX_2      -4.885e-15   2.02e-15     -2.416      0.016   -8.86e-15   -9.13e-16\n",
       "MEDV           1.0000   1.33e-16   7.52e+15      0.000       1.000       1.000\n",
       "==============================================================================\n",
       "Omnibus:                       82.703   Durbin-Watson:                   0.166\n",
       "Prob(Omnibus):                  0.000   Jarque-Bera (JB):              140.111\n",
       "Skew:                          -0.986   Prob(JB):                     3.76e-31\n",
       "Kurtosis:                       4.660   Cond. No.                     2.01e+17\n",
       "==============================================================================\n",
       "\n",
       "Warnings:\n",
       "[1] Standard Errors assume that the covariance matrix of the errors is correctly specified.\n",
       "[2] The smallest eigenvalue is 7.91e-30. This might indicate that there are\n",
       "strong multicollinearity problems or that the design matrix is singular.\n",
       "\"\"\""
      ]
     },
     "execution_count": 25,
     "metadata": {},
     "output_type": "execute_result"
    }
   ],
   "source": [
    "stats_model.summary()"
   ]
  },
  {
   "cell_type": "code",
   "execution_count": 28,
   "metadata": {},
   "outputs": [
    {
     "data": {
      "text/html": [
       "<table class=\"simpletable\">\n",
       "<caption>OLS Regression Results</caption>\n",
       "<tr>\n",
       "  <th>Dep. Variable:</th>            <td>y</td>        <th>  R-squared:         </th>  <td>   1.000</td> \n",
       "</tr>\n",
       "<tr>\n",
       "  <th>Model:</th>                   <td>OLS</td>       <th>  Adj. R-squared:    </th>  <td>   1.000</td> \n",
       "</tr>\n",
       "<tr>\n",
       "  <th>Method:</th>             <td>Least Squares</td>  <th>  F-statistic:       </th>  <td>1.941e+31</td>\n",
       "</tr>\n",
       "<tr>\n",
       "  <th>Date:</th>             <td>Tue, 16 Jul 2019</td> <th>  Prob (F-statistic):</th>   <td>  0.00</td>  \n",
       "</tr>\n",
       "<tr>\n",
       "  <th>Time:</th>                 <td>21:02:33</td>     <th>  Log-Likelihood:    </th>  <td>  15467.</td> \n",
       "</tr>\n",
       "<tr>\n",
       "  <th>No. Observations:</th>      <td>   506</td>      <th>  AIC:               </th> <td>-3.091e+04</td>\n",
       "</tr>\n",
       "<tr>\n",
       "  <th>Df Residuals:</th>          <td>   492</td>      <th>  BIC:               </th> <td>-3.085e+04</td>\n",
       "</tr>\n",
       "<tr>\n",
       "  <th>Df Model:</th>              <td>    13</td>      <th>                     </th>      <td> </td>    \n",
       "</tr>\n",
       "<tr>\n",
       "  <th>Covariance Type:</th>      <td>nonrobust</td>    <th>                     </th>      <td> </td>    \n",
       "</tr>\n",
       "</table>\n",
       "<table class=\"simpletable\">\n",
       "<tr>\n",
       "     <td></td>        <th>coef</th>     <th>std err</th>      <th>t</th>      <th>P>|t|</th>  <th>[0.025</th>    <th>0.975]</th>  \n",
       "</tr>\n",
       "<tr>\n",
       "  <th>const</th>   <td>-1.243e-14</td> <td> 5.35e-15</td> <td>   -2.323</td> <td> 0.021</td> <td> -2.3e-14</td> <td>-1.92e-15</td>\n",
       "</tr>\n",
       "<tr>\n",
       "  <th>CRIM</th>    <td> 7.105e-15</td> <td>  6.3e-15</td> <td>    1.129</td> <td> 0.260</td> <td>-5.26e-15</td> <td> 1.95e-14</td>\n",
       "</tr>\n",
       "<tr>\n",
       "  <th>INDUS</th>   <td> 8.882e-16</td> <td> 1.08e-15</td> <td>    0.820</td> <td> 0.413</td> <td>-1.24e-15</td> <td> 3.02e-15</td>\n",
       "</tr>\n",
       "<tr>\n",
       "  <th>CHAS</th>    <td>-3.331e-15</td> <td> 2.39e-15</td> <td>   -1.392</td> <td> 0.165</td> <td>-8.03e-15</td> <td> 1.37e-15</td>\n",
       "</tr>\n",
       "<tr>\n",
       "  <th>RM</th>      <td> 4.718e-15</td> <td> 1.26e-15</td> <td>    3.733</td> <td> 0.000</td> <td> 2.24e-15</td> <td>  7.2e-15</td>\n",
       "</tr>\n",
       "<tr>\n",
       "  <th>AGE</th>     <td>-1.887e-15</td> <td> 1.05e-15</td> <td>   -1.805</td> <td> 0.072</td> <td>-3.94e-15</td> <td> 1.68e-16</td>\n",
       "</tr>\n",
       "<tr>\n",
       "  <th>DIS</th>     <td>-3.553e-15</td> <td> 5.68e-15</td> <td>   -0.625</td> <td> 0.532</td> <td>-1.47e-14</td> <td> 7.61e-15</td>\n",
       "</tr>\n",
       "<tr>\n",
       "  <th>PTRATIO</th> <td> 8.049e-16</td> <td> 7.45e-16</td> <td>    1.081</td> <td> 0.280</td> <td>-6.58e-16</td> <td> 2.27e-15</td>\n",
       "</tr>\n",
       "<tr>\n",
       "  <th>B</th>       <td>-1.221e-15</td> <td> 2.98e-15</td> <td>   -0.410</td> <td> 0.682</td> <td>-7.07e-15</td> <td> 4.63e-15</td>\n",
       "</tr>\n",
       "<tr>\n",
       "  <th>LSTAT</th>   <td> 1.138e-15</td> <td> 1.29e-15</td> <td>    0.879</td> <td> 0.380</td> <td>-1.41e-15</td> <td> 3.68e-15</td>\n",
       "</tr>\n",
       "<tr>\n",
       "  <th>RAD_0</th>   <td>-5.995e-15</td> <td> 2.45e-15</td> <td>   -2.446</td> <td> 0.015</td> <td>-1.08e-14</td> <td>-1.18e-15</td>\n",
       "</tr>\n",
       "<tr>\n",
       "  <th>RAD_1</th>   <td>-5.773e-15</td> <td> 3.22e-15</td> <td>   -1.795</td> <td> 0.073</td> <td>-1.21e-14</td> <td> 5.44e-16</td>\n",
       "</tr>\n",
       "<tr>\n",
       "  <th>TAX_0</th>   <td>-4.385e-15</td> <td> 2.16e-15</td> <td>   -2.033</td> <td> 0.043</td> <td>-8.62e-15</td> <td>-1.48e-16</td>\n",
       "</tr>\n",
       "<tr>\n",
       "  <th>TAX_1</th>   <td>-3.664e-15</td> <td>  2.1e-15</td> <td>   -1.744</td> <td> 0.082</td> <td>-7.79e-15</td> <td> 4.63e-16</td>\n",
       "</tr>\n",
       "<tr>\n",
       "  <th>TAX_2</th>   <td>-4.885e-15</td> <td> 2.04e-15</td> <td>   -2.399</td> <td> 0.017</td> <td>-8.88e-15</td> <td>-8.85e-16</td>\n",
       "</tr>\n",
       "<tr>\n",
       "  <th>MEDV</th>    <td>    1.0000</td> <td> 1.34e-16</td> <td> 7.47e+15</td> <td> 0.000</td> <td>    1.000</td> <td>    1.000</td>\n",
       "</tr>\n",
       "</table>\n",
       "<table class=\"simpletable\">\n",
       "<tr>\n",
       "  <th>Omnibus:</th>       <td>75.198</td> <th>  Durbin-Watson:     </th> <td>   0.114</td>\n",
       "</tr>\n",
       "<tr>\n",
       "  <th>Prob(Omnibus):</th> <td> 0.000</td> <th>  Jarque-Bera (JB):  </th> <td> 146.708</td>\n",
       "</tr>\n",
       "<tr>\n",
       "  <th>Skew:</th>          <td>-0.846</td> <th>  Prob(JB):          </th> <td>1.39e-32</td>\n",
       "</tr>\n",
       "<tr>\n",
       "  <th>Kurtosis:</th>      <td> 5.025</td> <th>  Cond. No.          </th> <td>2.01e+17</td>\n",
       "</tr>\n",
       "</table><br/><br/>Warnings:<br/>[1] Standard Errors assume that the covariance matrix of the errors is correctly specified.<br/>[2] The smallest eigenvalue is 7.91e-30. This might indicate that there are<br/>strong multicollinearity problems or that the design matrix is singular."
      ],
      "text/plain": [
       "<class 'statsmodels.iolib.summary.Summary'>\n",
       "\"\"\"\n",
       "                            OLS Regression Results                            \n",
       "==============================================================================\n",
       "Dep. Variable:                      y   R-squared:                       1.000\n",
       "Model:                            OLS   Adj. R-squared:                  1.000\n",
       "Method:                 Least Squares   F-statistic:                 1.941e+31\n",
       "Date:                Tue, 16 Jul 2019   Prob (F-statistic):               0.00\n",
       "Time:                        21:02:33   Log-Likelihood:                 15467.\n",
       "No. Observations:                 506   AIC:                        -3.091e+04\n",
       "Df Residuals:                     492   BIC:                        -3.085e+04\n",
       "Df Model:                          13                                         \n",
       "Covariance Type:            nonrobust                                         \n",
       "==============================================================================\n",
       "                 coef    std err          t      P>|t|      [0.025      0.975]\n",
       "------------------------------------------------------------------------------\n",
       "const      -1.243e-14   5.35e-15     -2.323      0.021    -2.3e-14   -1.92e-15\n",
       "CRIM        7.105e-15    6.3e-15      1.129      0.260   -5.26e-15    1.95e-14\n",
       "INDUS       8.882e-16   1.08e-15      0.820      0.413   -1.24e-15    3.02e-15\n",
       "CHAS       -3.331e-15   2.39e-15     -1.392      0.165   -8.03e-15    1.37e-15\n",
       "RM          4.718e-15   1.26e-15      3.733      0.000    2.24e-15     7.2e-15\n",
       "AGE        -1.887e-15   1.05e-15     -1.805      0.072   -3.94e-15    1.68e-16\n",
       "DIS        -3.553e-15   5.68e-15     -0.625      0.532   -1.47e-14    7.61e-15\n",
       "PTRATIO     8.049e-16   7.45e-16      1.081      0.280   -6.58e-16    2.27e-15\n",
       "B          -1.221e-15   2.98e-15     -0.410      0.682   -7.07e-15    4.63e-15\n",
       "LSTAT       1.138e-15   1.29e-15      0.879      0.380   -1.41e-15    3.68e-15\n",
       "RAD_0      -5.995e-15   2.45e-15     -2.446      0.015   -1.08e-14   -1.18e-15\n",
       "RAD_1      -5.773e-15   3.22e-15     -1.795      0.073   -1.21e-14    5.44e-16\n",
       "TAX_0      -4.385e-15   2.16e-15     -2.033      0.043   -8.62e-15   -1.48e-16\n",
       "TAX_1      -3.664e-15    2.1e-15     -1.744      0.082   -7.79e-15    4.63e-16\n",
       "TAX_2      -4.885e-15   2.04e-15     -2.399      0.017   -8.88e-15   -8.85e-16\n",
       "MEDV           1.0000   1.34e-16   7.47e+15      0.000       1.000       1.000\n",
       "==============================================================================\n",
       "Omnibus:                       75.198   Durbin-Watson:                   0.114\n",
       "Prob(Omnibus):                  0.000   Jarque-Bera (JB):              146.708\n",
       "Skew:                          -0.846   Prob(JB):                     1.39e-32\n",
       "Kurtosis:                       5.025   Cond. No.                     2.01e+17\n",
       "==============================================================================\n",
       "\n",
       "Warnings:\n",
       "[1] Standard Errors assume that the covariance matrix of the errors is correctly specified.\n",
       "[2] The smallest eigenvalue is 7.91e-30. This might indicate that there are\n",
       "strong multicollinearity problems or that the design matrix is singular.\n",
       "\"\"\""
      ]
     },
     "execution_count": 28,
     "metadata": {},
     "output_type": "execute_result"
    }
   ],
   "source": [
    "boston_features_constant = sm.add_constant(boston_features)\n",
    "stats_model2 =  sm.OLS(boston.target, boston_features_constant).fit()\n",
    "stats_model2.summary()"
   ]
  },
  {
   "cell_type": "markdown",
   "metadata": {},
   "source": [
    "## Run the same model in Scikit-learn"
   ]
  },
  {
   "cell_type": "code",
   "execution_count": 32,
   "metadata": {},
   "outputs": [],
   "source": [
    "from sklearn.linear_model import LinearRegression\n",
    "linreg = LinearRegression()\n",
    "scikit_model = linreg.fit(boston_features, boston_features['MEDV'])"
   ]
  },
  {
   "cell_type": "code",
   "execution_count": 33,
   "metadata": {},
   "outputs": [
    {
     "data": {
      "text/plain": [
       "-3.552713678800501e-15"
      ]
     },
     "execution_count": 33,
     "metadata": {},
     "output_type": "execute_result"
    }
   ],
   "source": [
    "scikit_model.intercept_"
   ]
  },
  {
   "cell_type": "code",
   "execution_count": 34,
   "metadata": {},
   "outputs": [
    {
     "data": {
      "text/plain": [
       "array([ 2.87137407e-15,  2.22295919e-15, -4.95903487e-15, -2.14867577e-15,\n",
       "        9.51114330e-17,  7.15399269e-15, -1.11605471e-16, -2.81607561e-15,\n",
       "        1.20797223e-15,  4.97889559e-16, -5.04828453e-16,  1.14448395e-16,\n",
       "       -1.79024486e-16,  6.27854721e-17,  1.00000000e+00])"
      ]
     },
     "execution_count": 34,
     "metadata": {},
     "output_type": "execute_result"
    }
   ],
   "source": [
    "scikit_model.coef_"
   ]
  },
  {
   "cell_type": "code",
   "execution_count": 35,
   "metadata": {},
   "outputs": [
    {
     "data": {
      "text/plain": [
       "Intercept   -1.243450e-14\n",
       "CRIM         7.105427e-15\n",
       "INDUS        8.881784e-16\n",
       "CHAS        -3.330669e-15\n",
       "RM           4.718448e-15\n",
       "AGE         -1.887379e-15\n",
       "DIS         -3.552714e-15\n",
       "PTRATIO      8.049117e-16\n",
       "B           -1.221245e-15\n",
       "LSTAT        1.137979e-15\n",
       "RAD_0       -5.995204e-15\n",
       "RAD_1       -5.773160e-15\n",
       "TAX_0       -4.385381e-15\n",
       "TAX_1       -3.663736e-15\n",
       "TAX_2       -4.884981e-15\n",
       "MEDV         1.000000e+00\n",
       "dtype: float64"
      ]
     },
     "execution_count": 35,
     "metadata": {},
     "output_type": "execute_result"
    }
   ],
   "source": [
    "stats_model.params"
   ]
  },
  {
   "cell_type": "markdown",
   "metadata": {},
   "source": [
    "## Remove the necessary variables to make sure the coefficients are the same for Scikit-learn vs Statsmodels"
   ]
  },
  {
   "cell_type": "code",
   "execution_count": 38,
   "metadata": {},
   "outputs": [],
   "source": [
    "boston_features.drop('TAX_1', axis=1, inplace=True)"
   ]
  },
  {
   "cell_type": "markdown",
   "metadata": {},
   "source": [
    "### Statsmodels"
   ]
  },
  {
   "cell_type": "code",
   "execution_count": 39,
   "metadata": {},
   "outputs": [
    {
     "data": {
      "text/plain": [
       "Intercept   -1.065814e-14\n",
       "CRIM         1.509903e-14\n",
       "INDUS        1.998401e-15\n",
       "CHAS        -1.998401e-15\n",
       "RM           1.443290e-15\n",
       "AGE          8.881784e-16\n",
       "DIS          2.664535e-15\n",
       "PTRATIO     -4.996004e-16\n",
       "B           -1.332268e-15\n",
       "LSTAT       -1.582068e-15\n",
       "RAD_0       -5.551115e-15\n",
       "RAD_1       -6.883383e-15\n",
       "TAX_0        1.054712e-15\n",
       "TAX_2       -1.776357e-15\n",
       "MEDV         1.000000e+00\n",
       "dtype: float64"
      ]
     },
     "execution_count": 39,
     "metadata": {},
     "output_type": "execute_result"
    }
   ],
   "source": [
    "outcome = 'MEDV'\n",
    "predictors = boston_features.columns\n",
    "f = '+'.join(predictors)\n",
    "formula = outcome + '~' + f\n",
    "stats_model = ols(formula=formula, data=boston_features).fit()\n",
    "stats_model.params"
   ]
  },
  {
   "cell_type": "markdown",
   "metadata": {},
   "source": [
    "### Scikit-learn"
   ]
  },
  {
   "cell_type": "code",
   "execution_count": 40,
   "metadata": {},
   "outputs": [
    {
     "name": "stdout",
     "output_type": "stream",
     "text": [
      "1.7763568394002505e-14\n",
      "[-1.76115074e-14  3.31473577e-15 -1.48570731e-15 -1.61094393e-15\n",
      "  4.36370224e-16  3.88011781e-15 -1.33449918e-15  4.30480898e-15\n",
      " -2.19597439e-15 -1.81204825e-16  1.67327037e-16  1.04211187e-15\n",
      "  8.84005400e-16  1.00000000e+00]\n"
     ]
    }
   ],
   "source": [
    "linreg = LinearRegression()\n",
    "scikit_model = linreg.fit(boston_features, boston_features['MEDV'])\n",
    "print(scikit_model.intercept_)\n",
    "print(scikit_model.coef_)"
   ]
  },
  {
   "cell_type": "markdown",
   "metadata": {},
   "source": [
    "## Interpret the coefficients for PTRATIO, PTRATIO, LSTAT"
   ]
  },
  {
   "cell_type": "markdown",
   "metadata": {},
   "source": [
    "- CRIM: per capita crime rate by town\n",
    "- INDUS: proportion of non-retail business acres per town\n",
    "- CHAS: Charles River dummy variable (= 1 if tract bounds river; 0 otherwise)\n",
    "- RM: average number of rooms per dwelling\n",
    "- AGE: proportion of owner-occupied units built prior to 1940\n",
    "- DIS: weighted distances to five Boston employment centres\n",
    "- RAD: index of accessibility to radial highways\n",
    "- TAX: full-value property-tax rate per $10,000\n",
    "- PTRATIO: pupil-teacher ratio by town\n",
    "- B: 1000(Bk - 0.63)^2 where Bk is the proportion of blacks by town\n",
    "- LSTAT: % lower status of the population"
   ]
  },
  {
   "cell_type": "markdown",
   "metadata": {},
   "source": [
    "## Predict the house price given the following characteristics (before manipulation!!)\n",
    "\n",
    "Make sure to transform your variables as needed!\n",
    "\n",
    "- CRIM: 0.15\n",
    "- INDUS: 6.07\n",
    "- CHAS: 1        \n",
    "- RM:  6.1\n",
    "- AGE: 33.2\n",
    "- DIS: 7.6\n",
    "- PTRATIO: 17\n",
    "- B: 383\n",
    "- LSTAT: 10.87\n",
    "- RAD: 8\n",
    "- TAX: 284"
   ]
  },
  {
   "cell_type": "code",
   "execution_count": null,
   "metadata": {},
   "outputs": [],
   "source": [
    "x = {'CRIM': 0.15, 'INDUS': 6.07, 'CHAS': 1, 'RM':  6.1, 'AGE': 33.2, 'DIS': 7.6, 'PTRATIO': 17\n",
    " ,'B': 383, 'LSTAT': 10.87, 'RAD': 8, 'TAX': 284}\n",
    "# (go through and change all values, but you need also min/max of o\n",
    "#other .. etc. x_transform = [y['CRIM'] ]\n",
    "#linreg.predict(y_predict)"
   ]
  },
  {
   "cell_type": "markdown",
   "metadata": {},
   "source": [
    "## Summary\n",
    "Congratulations! You've fitted your first multiple linear regression model on the Boston Housing Data."
   ]
  }
 ],
 "metadata": {
  "kernelspec": {
   "display_name": "Python 3",
   "language": "python",
   "name": "python3"
  },
  "language_info": {
   "codemirror_mode": {
    "name": "ipython",
    "version": 3
   },
   "file_extension": ".py",
   "mimetype": "text/x-python",
   "name": "python",
   "nbconvert_exporter": "python",
   "pygments_lexer": "ipython3",
   "version": "3.6.6"
  }
 },
 "nbformat": 4,
 "nbformat_minor": 2
}
